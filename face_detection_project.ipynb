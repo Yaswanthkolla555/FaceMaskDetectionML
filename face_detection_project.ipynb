{
  "cells": [
    {
      "cell_type": "code",
      "execution_count": null,
      "metadata": {
        "colab": {
          "base_uri": "https://localhost:8080/"
        },
        "id": "Si-5igWcEjMD",
        "outputId": "4fff3d44-64ad-4018-d5a2-012f0e340609"
      },
      "outputs": [
        {
          "output_type": "stream",
          "name": "stdout",
          "text": [
            "Requirement already satisfied: kaggle in /usr/local/lib/python3.10/dist-packages (1.6.17)\n",
            "Requirement already satisfied: six>=1.10 in /usr/local/lib/python3.10/dist-packages (from kaggle) (1.16.0)\n",
            "Requirement already satisfied: certifi>=2023.7.22 in /usr/local/lib/python3.10/dist-packages (from kaggle) (2024.8.30)\n",
            "Requirement already satisfied: python-dateutil in /usr/local/lib/python3.10/dist-packages (from kaggle) (2.8.2)\n",
            "Requirement already satisfied: requests in /usr/local/lib/python3.10/dist-packages (from kaggle) (2.32.3)\n",
            "Requirement already satisfied: tqdm in /usr/local/lib/python3.10/dist-packages (from kaggle) (4.66.5)\n",
            "Requirement already satisfied: python-slugify in /usr/local/lib/python3.10/dist-packages (from kaggle) (8.0.4)\n",
            "Requirement already satisfied: urllib3 in /usr/local/lib/python3.10/dist-packages (from kaggle) (2.2.3)\n",
            "Requirement already satisfied: bleach in /usr/local/lib/python3.10/dist-packages (from kaggle) (6.1.0)\n",
            "Requirement already satisfied: webencodings in /usr/local/lib/python3.10/dist-packages (from bleach->kaggle) (0.5.1)\n",
            "Requirement already satisfied: text-unidecode>=1.3 in /usr/local/lib/python3.10/dist-packages (from python-slugify->kaggle) (1.3)\n",
            "Requirement already satisfied: charset-normalizer<4,>=2 in /usr/local/lib/python3.10/dist-packages (from requests->kaggle) (3.4.0)\n",
            "Requirement already satisfied: idna<4,>=2.5 in /usr/local/lib/python3.10/dist-packages (from requests->kaggle) (3.10)\n"
          ]
        }
      ],
      "source": [
        "!pip install kaggle"
      ]
    },
    {
      "cell_type": "code",
      "execution_count": null,
      "metadata": {
        "id": "SVM9zIJ1FDFK",
        "colab": {
          "base_uri": "https://localhost:8080/"
        },
        "outputId": "eae43487-de4a-44bb-dc72-1357beb0dc2b"
      },
      "outputs": [
        {
          "output_type": "stream",
          "name": "stdout",
          "text": [
            "cp: cannot stat 'kaggle.json': No such file or directory\n",
            "chmod: cannot access '/root/.kaggle/kaggle.json': No such file or directory\n"
          ]
        }
      ],
      "source": [
        "# configuring the path of Kaggle.json file\n",
        "!mkdir -p ~/.kaggle\n",
        "!cp kaggle.json ~/.kaggle/\n",
        "!chmod 600 ~/.kaggle/kaggle.json"
      ]
    },
    {
      "cell_type": "code",
      "execution_count": null,
      "metadata": {
        "colab": {
          "base_uri": "https://localhost:8080/"
        },
        "id": "bhKjFKrVFHf5",
        "outputId": "5ea0f61f-255b-45d2-8984-d95f6a36f341"
      },
      "outputs": [
        {
          "output_type": "stream",
          "name": "stdout",
          "text": [
            "Dataset URL: https://www.kaggle.com/datasets/omkargurav/face-mask-dataset\n",
            "License(s): unknown\n",
            "Downloading face-mask-dataset.zip to /content\n",
            "100% 163M/163M [00:06<00:00, 32.8MB/s]\n",
            "100% 163M/163M [00:06<00:00, 27.0MB/s]\n"
          ]
        }
      ],
      "source": [
        "# API to fetch the dataset from Kaggle\n",
        "!kaggle datasets download -d omkargurav/face-mask-dataset"
      ]
    },
    {
      "cell_type": "code",
      "execution_count": null,
      "metadata": {
        "colab": {
          "base_uri": "https://localhost:8080/"
        },
        "id": "XUY-XPgfFqUy",
        "outputId": "f06c7702-a39b-4b45-d224-855a6b9c1b6b"
      },
      "outputs": [
        {
          "output_type": "stream",
          "name": "stdout",
          "text": [
            "Dataset is extracted\n"
          ]
        }
      ],
      "source": [
        "#extracting the zip file\n",
        "from zipfile import ZipFile\n",
        "dataset=\"/content/face-mask-dataset.zip\"\n",
        "\n",
        "with ZipFile(dataset,'r') as zip:\n",
        "  zip.extractall()\n",
        "  print(\"Dataset is extracted\")"
      ]
    },
    {
      "cell_type": "markdown",
      "metadata": {
        "id": "ouJnSXeUW1j4"
      },
      "source": [
        "Importing Dependencies\n"
      ]
    },
    {
      "cell_type": "code",
      "execution_count": null,
      "metadata": {
        "id": "hxptWU6kGxr-"
      },
      "outputs": [],
      "source": [
        "import os\n",
        "import numpy as np\n",
        "import matplotlib.pyplot as plt\n",
        "import matplotlib.image as mpimg\n",
        "import cv2\n",
        "from google.colab.patches import cv2_imshow\n",
        "from PIL import Image\n",
        "from sklearn.model_selection import train_test_split\n"
      ]
    },
    {
      "cell_type": "markdown",
      "metadata": {
        "id": "LfpSbmk2YOrQ"
      },
      "source": []
    },
    {
      "cell_type": "code",
      "execution_count": null,
      "metadata": {
        "colab": {
          "base_uri": "https://localhost:8080/"
        },
        "id": "JXkbKwARG0uu",
        "outputId": "c545be94-4755-4fd3-dbc8-1c026c71bacd"
      },
      "outputs": [
        {
          "output_type": "stream",
          "name": "stdout",
          "text": [
            "['with_mask_1981.jpg', 'with_mask_196.jpg', 'with_mask_868.jpg', 'with_mask_2728.jpg', 'with_mask_975.jpg', 'with_mask_1528.jpg', 'with_mask_2510.jpg', 'with_mask_3592.jpg', 'with_mask_2103.jpg', 'with_mask_1747.jpg']\n"
          ]
        }
      ],
      "source": [
        "with_mask_files=os.listdir(\"/content/data/with_mask\")\n",
        "print(with_mask_files[0:10])"
      ]
    },
    {
      "cell_type": "code",
      "execution_count": null,
      "metadata": {
        "colab": {
          "base_uri": "https://localhost:8080/"
        },
        "id": "i_pLm5wsYUhb",
        "outputId": "e3475b00-082a-4b74-ba2e-3be17c79e1ed"
      },
      "outputs": [
        {
          "output_type": "stream",
          "name": "stdout",
          "text": [
            "['without_mask_183.jpg', 'without_mask_2936.jpg', 'without_mask_1663.jpg', 'without_mask_3535.jpg', 'without_mask_1588.jpg', 'without_mask_3724.jpg', 'without_mask_2493.jpg', 'without_mask_622.jpg', 'without_mask_283.jpg', 'without_mask_715.jpg']\n"
          ]
        }
      ],
      "source": [
        "without_mask_files = os.listdir('/content/data/without_mask')\n",
        "print(without_mask_files[0:10])"
      ]
    },
    {
      "cell_type": "code",
      "execution_count": null,
      "metadata": {
        "colab": {
          "base_uri": "https://localhost:8080/"
        },
        "id": "m18v8A3IYkOT",
        "outputId": "298ab47a-6613-4040-acb5-e7302555cc2d"
      },
      "outputs": [
        {
          "output_type": "stream",
          "name": "stdout",
          "text": [
            "Number of Data with mask images: 3725\n",
            "Number of Data without mask images: 3828\n"
          ]
        }
      ],
      "source": [
        "print('Number of Data with mask images:', len(with_mask_files))\n",
        "print('Number of Data without mask images:', len(without_mask_files))"
      ]
    },
    {
      "cell_type": "markdown",
      "metadata": {
        "id": "sSvmrI8eZKqw"
      },
      "source": [
        "**Creating Labels for 2 classes**"
      ]
    },
    {
      "cell_type": "markdown",
      "metadata": {
        "id": "5DnqT3xGZSsE"
      },
      "source": [
        "without mask-->0"
      ]
    },
    {
      "cell_type": "markdown",
      "metadata": {
        "id": "GZHXR5HhZQq1"
      },
      "source": [
        "with mask-->1"
      ]
    },
    {
      "cell_type": "code",
      "execution_count": null,
      "metadata": {
        "colab": {
          "base_uri": "https://localhost:8080/"
        },
        "id": "okQYUQ23YpoW",
        "outputId": "3c7f3100-b454-408f-bda1-0852025684ff"
      },
      "outputs": [
        {
          "output_type": "stream",
          "name": "stdout",
          "text": [
            "[0, 0, 0, 0, 0]\n",
            "[1, 1, 1, 1, 1]\n"
          ]
        }
      ],
      "source": [
        "with_mask_labels=[0]*len(with_mask_files)\n",
        "without_mask_labels=[1]*len(without_mask_files)\n",
        "print(with_mask_labels[0:5])\n",
        "print(without_mask_labels[0:5])"
      ]
    },
    {
      "cell_type": "code",
      "execution_count": null,
      "metadata": {
        "colab": {
          "base_uri": "https://localhost:8080/"
        },
        "id": "4wUYtIVxZ2FZ",
        "outputId": "05cda0a9-d7d1-4f67-e8c0-ee46eda4547e"
      },
      "outputs": [
        {
          "output_type": "stream",
          "name": "stdout",
          "text": [
            "[0, 0, 0, 0, 0]\n",
            "[1, 1, 1, 1, 1]\n"
          ]
        }
      ],
      "source": [
        "total_labels=with_mask_labels+without_mask_labels\n",
        "print(total_labels[0:5])\n",
        "print(total_labels[-5:])"
      ]
    },
    {
      "cell_type": "markdown",
      "metadata": {
        "id": "wt0HmXSxaMPt"
      },
      "source": [
        "**Displaying Images**"
      ]
    },
    {
      "cell_type": "code",
      "execution_count": null,
      "metadata": {
        "colab": {
          "base_uri": "https://localhost:8080/",
          "height": 434
        },
        "id": "jVpVf8p7aRjA",
        "outputId": "b26afe5d-dec1-43af-e347-969267952917"
      },
      "outputs": [
        {
          "output_type": "display_data",
          "data": {
            "text/plain": [
              "<Figure size 640x480 with 1 Axes>"
            ],
            "image/png": "[encoded data removed]"
          },
          "metadata": {}
        }
      ],
      "source": [
        "#displaying images\n",
        "img=mpimg.imread(\"/content/data/with_mask/with_mask_120.jpg\")\n",
        "imgplot=plt.imshow(img)\n",
        "plt.show(imgplot)"
      ]
    },
    {
      "cell_type": "code",
      "execution_count": null,
      "metadata": {
        "colab": {
          "base_uri": "https://localhost:8080/",
          "height": 435
        },
        "id": "qMXBw_oPb3Ix",
        "outputId": "afdcfe7b-258c-4826-a7b3-2e3f55114503"
      },
      "outputs": [
        {
          "output_type": "display_data",
          "data": {
            "text/plain": [
              "<Figure size 640x480 with 1 Axes>"
            ],
            "image/png": "[encoded data removed]"
          },
          "metadata": {}
        }
      ],
      "source": [
        "#displaying without_mask_images\n",
        "img=mpimg.imread(\"/content/data/without_mask/without_mask_2511.jpg\")\n",
        "imgplot=plt.imshow(img)\n",
        "plt.show(imgplot)\n"
      ]
    },
    {
      "cell_type": "markdown",
      "metadata": {
        "id": "3BtwM7_KfCOE"
      },
      "source": []
    },
    {
      "cell_type": "markdown",
      "metadata": {
        "id": "hnAhU36ReyAR"
      },
      "source": [
        "Resizing the Images\n",
        "\n",
        "Converting The images to numpy arrays"
      ]
    },
    {
      "cell_type": "code",
      "execution_count": null,
      "metadata": {
        "id": "nh3OQg2yca1s",
        "colab": {
          "base_uri": "https://localhost:8080/"
        },
        "outputId": "e32a035a-d360-4423-99bd-756b2a76bb19"
      },
      "outputs": [
        {
          "output_type": "stream",
          "name": "stderr",
          "text": [
            "/usr/local/lib/python3.10/dist-packages/PIL/Image.py:1056: UserWarning: Palette images with Transparency expressed in bytes should be converted to RGBA images\n",
            "  warnings.warn(\n"
          ]
        }
      ],
      "source": [
        "#converting images into numpy arrays\n",
        "with_mask_path=\"/content/data/with_mask/\"\n",
        "without_mask_path=\"/content/data/without_mask/\"\n",
        "\n",
        "#here data is a list\n",
        "data=[]\n",
        "def add_data(path,files):\n",
        "  for img_file in files:\n",
        "    image=Image.open(path+img_file)\n",
        "    image=image.resize((128,128))\n",
        "    image=image.convert(\"RGB\")\n",
        "    image=np.array(image)\n",
        "    data.append(image)\n",
        "\n",
        "add_data(with_mask_path,with_mask_files)\n",
        "add_data(without_mask_path,without_mask_files)"
      ]
    },
    {
      "cell_type": "code",
      "execution_count": null,
      "metadata": {
        "colab": {
          "base_uri": "https://localhost:8080/"
        },
        "id": "mUKCE6-e9hqS",
        "outputId": "42826f58-a25a-4e3b-b52f-75b7e487c2d5"
      },
      "outputs": [
        {
          "output_type": "stream",
          "name": "stdout",
          "text": [
            "7553\n",
            "<class 'numpy.ndarray'>\n"
          ]
        },
        {
          "output_type": "execute_result",
          "data": {
            "text/plain": [
              "(128, 128, 3)"
            ]
          },
          "metadata": {},
          "execution_count": 14
        }
      ],
      "source": [
        "print(len(data))\n",
        "print(type(data[0]))\n",
        "data[0].shape"
      ]
    },
    {
      "cell_type": "code",
      "execution_count": null,
      "metadata": {
        "id": "909CKLU9922H"
      },
      "outputs": [],
      "source": [
        "#converting image list and label list to numpy arrays\n",
        "\n",
        "X=np.array(data)\n",
        "Y=np.array(total_labels)"
      ]
    },
    {
      "cell_type": "code",
      "execution_count": null,
      "metadata": {
        "colab": {
          "base_uri": "https://localhost:8080/"
        },
        "id": "qvRqmLze_yDt",
        "outputId": "13e7ad7b-5276-42ae-d157-a60c066a3f74"
      },
      "outputs": [
        {
          "output_type": "stream",
          "name": "stdout",
          "text": [
            "<class 'numpy.ndarray'>\n",
            "<class 'numpy.ndarray'>\n",
            "(7553, 128, 128, 3)\n",
            "(7553,)\n"
          ]
        }
      ],
      "source": [
        "print(type(X))\n",
        "print(type(Y))\n",
        "\n",
        "print(X.shape)\n",
        "print(Y.shape)\n",
        "\n",
        "#no. of arrays,height,width and color of the channel"
      ]
    },
    {
      "cell_type": "code",
      "source": [
        "print(X[-1], Y[-1]);"
      ],
      "metadata": {
        "colab": {
          "base_uri": "https://localhost:8080/"
        },
        "id": "JW8-Elk5W9cT",
        "outputId": "a1765864-0d03-4b7d-f52a-2113e748aea9"
      },
      "execution_count": null,
      "outputs": [
        {
          "output_type": "stream",
          "name": "stdout",
          "text": [
            "[[[  7   8  12]\n",
            "  [  6   6  10]\n",
            "  [  3   2   7]\n",
            "  ...\n",
            "  [  5   7   6]\n",
            "  [  6   8   7]\n",
            "  [  7   9   8]]\n",
            "\n",
            " [[  6   7  11]\n",
            "  [  5   5  10]\n",
            "  [  3   2   7]\n",
            "  ...\n",
            "  [  5   7   6]\n",
            "  [  6   8   7]\n",
            "  [  7   9   8]]\n",
            "\n",
            " [[  3   4   8]\n",
            "  [  4   5   9]\n",
            "  [  2   3   7]\n",
            "  ...\n",
            "  [  3   5   4]\n",
            "  [  4   6   5]\n",
            "  [  3   7   6]]\n",
            "\n",
            " ...\n",
            "\n",
            " [[125 138 147]\n",
            "  [119 132 141]\n",
            "  [110 124 133]\n",
            "  ...\n",
            "  [ 16  26  36]\n",
            "  [ 15  25  35]\n",
            "  [ 14  24  34]]\n",
            "\n",
            " [[ 83  95 106]\n",
            "  [ 76  88 100]\n",
            "  [ 67  79  91]\n",
            "  ...\n",
            "  [  7  15  26]\n",
            "  [  6  14  25]\n",
            "  [  4  13  23]]\n",
            "\n",
            " [[ 58  70  81]\n",
            "  [ 52  64  77]\n",
            "  [ 47  59  73]\n",
            "  ...\n",
            "  [  2  10  21]\n",
            "  [  1   9  20]\n",
            "  [  0   7  18]]] 1\n"
          ]
        }
      ]
    },
    {
      "cell_type": "markdown",
      "metadata": {
        "id": "-LdJmOvxAQGs"
      },
      "source": [
        "**Train Test Split**"
      ]
    },
    {
      "cell_type": "code",
      "execution_count": null,
      "metadata": {
        "id": "uI0-0RyI_ze7"
      },
      "outputs": [],
      "source": [
        "X_train,X_test,Y_train,Y_test=train_test_split(X,Y,test_size=0.2,random_state=2)\n",
        "#random_state-->The random_state parameter in train_test_split ensures reproducibility. When random_state is set to a specific integer, such as 2, it makes sure that every time you run the code, the data will be split in the exact same way."
      ]
    },
    {
      "cell_type": "code",
      "execution_count": null,
      "metadata": {
        "colab": {
          "base_uri": "https://localhost:8080/"
        },
        "id": "nZ57-G5_BfzM",
        "outputId": "d58b09e8-619e-4e28-fa0e-3c4d2fcbc7e5"
      },
      "outputs": [
        {
          "output_type": "stream",
          "name": "stdout",
          "text": [
            "(7553, 128, 128, 3) (6042, 128, 128, 3) (1511, 128, 128, 3)\n"
          ]
        }
      ],
      "source": [
        "print(X.shape,X_train.shape,X_test.shape)"
      ]
    },
    {
      "cell_type": "markdown",
      "metadata": {
        "id": "eLszKPUcB9av"
      },
      "source": [
        "**Feature Scaling**"
      ]
    },
    {
      "cell_type": "code",
      "execution_count": null,
      "metadata": {
        "id": "GanjgFz3B_2u"
      },
      "outputs": [],
      "source": [
        "X_train_scaled=X_train/255\n",
        "X_test_scaled=X_test/255"
      ]
    },
    {
      "cell_type": "markdown",
      "metadata": {
        "id": "xXObpfWeCXR_"
      },
      "source": [
        "**Building Convolutional Neural Network**"
      ]
    },
    {
      "cell_type": "code",
      "execution_count": null,
      "metadata": {
        "id": "J5Q6du1dCTo0"
      },
      "outputs": [],
      "source": [
        "import tensorflow as tf\n",
        "from tensorflow import keras\n",
        "from keras.models import Sequential\n",
        "from keras.layers import Conv2D,MaxPooling2D,Flatten,Dense,Dropout"
      ]
    },
    {
      "cell_type": "code",
      "execution_count": null,
      "metadata": {
        "id": "b-yVfnis8SIE",
        "colab": {
          "base_uri": "https://localhost:8080/"
        },
        "outputId": "4ff09bb2-b3e4-4c80-d2f0-442b6c7cd4a7"
      },
      "outputs": [
        {
          "output_type": "stream",
          "name": "stderr",
          "text": [
            "/usr/local/lib/python3.10/dist-packages/keras/src/layers/convolutional/base_conv.py:107: UserWarning: Do not pass an `input_shape`/`input_dim` argument to a layer. When using Sequential models, prefer using an `Input(shape)` object as the first layer in the model instead.\n",
            "  super().__init__(activity_regularizer=activity_regularizer, **kwargs)\n"
          ]
        }
      ],
      "source": [
        "num_of_classes=2\n",
        "model=Sequential([\n",
        "    Conv2D(32,kernel_size=(3,3),activation=\"relu\",input_shape=(128,128,3)),\n",
        "    MaxPooling2D(2,2),\n",
        "    Conv2D(64,kernel_size=(3,3),activation=\"relu\"),\n",
        "    MaxPooling2D(2,2),\n",
        "    Flatten(),\n",
        "    Dense(128,activation=\"relu\"),\n",
        "    Dropout(0.5),\n",
        "    Dense(64,activation=\"relu\"),\n",
        "    Dense(num_of_classes,activation=\"softmax\")\n",
        "])\n"
      ]
    },
    {
      "cell_type": "code",
      "execution_count": null,
      "metadata": {
        "id": "5Hl5C8L-As20"
      },
      "outputs": [],
      "source": [
        "#compiling the neural network\n",
        "model.compile(optimizer=\"adam\",loss=\"sparse_categorical_crossentropy\",metrics=[\"accuracy\"])"
      ]
    },
    {
      "cell_type": "code",
      "execution_count": null,
      "metadata": {
        "colab": {
          "base_uri": "https://localhost:8080/"
        },
        "id": "-NMFWtYQB_Kg",
        "outputId": "c718c075-0479-4218-bb7b-1aee1db6bc24"
      },
      "outputs": [
        {
          "output_type": "stream",
          "name": "stdout",
          "text": [
            "Epoch 1/10\n",
            "\u001b[1m170/170\u001b[0m \u001b[32m━━━━━━━━━━━━━━━━━━━━\u001b[0m\u001b[37m\u001b[0m \u001b[1m150s\u001b[0m 871ms/step - accuracy: 0.7118 - loss: 0.7170 - val_accuracy: 0.8694 - val_loss: 0.3003\n",
            "Epoch 2/10\n",
            "\u001b[1m170/170\u001b[0m \u001b[32m━━━━━━━━━━━━━━━━━━━━\u001b[0m\u001b[37m\u001b[0m \u001b[1m156s\u001b[0m 917ms/step - accuracy: 0.8812 - loss: 0.2855 - val_accuracy: 0.9256 - val_loss: 0.1886\n",
            "Epoch 3/10\n",
            "\u001b[1m170/170\u001b[0m \u001b[32m━━━━━━━━━━━━━━━━━━━━\u001b[0m\u001b[37m\u001b[0m \u001b[1m206s\u001b[0m 942ms/step - accuracy: 0.9178 - loss: 0.2124 - val_accuracy: 0.9339 - val_loss: 0.2017\n",
            "Epoch 4/10\n",
            "\u001b[1m 75/170\u001b[0m \u001b[32m━━━━━━━━\u001b[0m\u001b[37m━━━━━━━━━━━━\u001b[0m \u001b[1m1:20\u001b[0m 847ms/step - accuracy: 0.9385 - loss: 0.1784"
          ]
        }
      ],
      "source": [
        "#training the neural network\n",
        "history=model.fit(X_train_scaled,Y_train,validation_split=0.1,epochs=10)"
      ]
    },
    {
      "cell_type": "markdown",
      "metadata": {
        "id": "L7H4fo1jD6gX"
      },
      "source": [
        "**Model Prediction**"
      ]
    },
    {
      "cell_type": "code",
      "execution_count": null,
      "metadata": {
        "id": "T4PJBK6TD-Qk"
      },
      "outputs": [],
      "source": [
        "loss,accuracy=model.evaluate(X_test_scaled,Y_test)\n",
        "print(\"Test Accuracy:\",accuracy)"
      ]
    },
    {
      "cell_type": "code",
      "execution_count": null,
      "metadata": {
        "id": "HiR2WC9EELs8"
      },
      "outputs": [],
      "source": [
        "#plotting loss and accuracy\n",
        "\n",
        "h=history\n",
        "plt.plot(h.history[\"loss\"],label=\"train_loss\")\n",
        "plt.plot(h.history[\"val_loss\"],label=\"val_loss\")\n",
        "plt.legend()\n",
        "plt.show()\n",
        "\n",
        "plt.plot(h.history[\"accuracy\"],label=\"train_accuracy\")\n",
        "plt.plot(h.history[\"val_accuracy\"],label=\"val_accuracy\")\n",
        "plt.legend()\n",
        "plt.show()"
      ]
    },
    {
      "cell_type": "markdown",
      "metadata": {
        "id": "LDUJKmCJGnIy"
      },
      "source": [
        "**Predictive System**"
      ]
    },
    {
      "cell_type": "code",
      "execution_count": null,
      "metadata": {
        "id": "9xhtg8yWGgjh"
      },
      "outputs": [],
      "source": [
        "input_img_path=input(\"Path of the img to be predicted:\")\n",
        "input_img=cv2.imread(input_img_path)\n",
        "cv2_imshow(input_img)\n",
        "\n",
        "input_img_resized=cv2.resize(input_img,(128,128))\n",
        "input_img_scaled=input_img_resized/255\n",
        "input_img_reshaped=np.reshape(input_img_scaled,[1,128,128,3])\n",
        "\n",
        "input_prediction=model.predict(input_img_reshaped)\n",
        "print(input_prediction)\n",
        "\n",
        "input_pred_label=np.argmax(input_prediction)\n",
        "print(input_pred_label)\n",
        "\n",
        "if input_pred_label == 1:\n",
        "    print(\"The person in the image is wearing a mask\")\n",
        "else:\n",
        "    print(\"The person in the image is not wearing a mask\")\n",
        "\n",
        "\n"
      ]
    },
    {
      "cell_type": "code",
      "execution_count": null,
      "metadata": {
        "id": "D_85R9UOINXa"
      },
      "outputs": [],
      "source": []
    },
    {
      "cell_type": "code",
      "execution_count": null,
      "metadata": {
        "id": "hfr9QYMuRCRb"
      },
      "outputs": [],
      "source": []
    }
  ],
  "metadata": {
    "accelerator": "GPU",
    "colab": {
      "gpuType": "T4",
      "provenance": []
    },
    "kernelspec": {
      "display_name": "Python 3",
      "name": "python3"
    },
    "language_info": {
      "name": "python"
    }
  },
  "nbformat": 4,
  "nbformat_minor": 0
}